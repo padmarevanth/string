{
 "cells": [
  {
   "cell_type": "code",
   "execution_count": 1,
   "id": "cbbe4b90",
   "metadata": {},
   "outputs": [
    {
     "data": {
      "text/plain": [
       "'padma revanth'"
      ]
     },
     "execution_count": 1,
     "metadata": {},
     "output_type": "execute_result"
    }
   ],
   "source": [
    "# write a python program to convert a string to lower case\n",
    "a='PADMA REVANTH'\n",
    "a.lower()\n"
   ]
  },
  {
   "cell_type": "code",
   "execution_count": 57,
   "id": "445eb815",
   "metadata": {},
   "outputs": [
    {
     "name": "stdout",
     "output_type": "stream",
     "text": [
      "ENTER : PADMAREVANTH\n"
     ]
    },
    {
     "data": {
      "text/plain": [
       "'PaDmArEvAnTh'"
      ]
     },
     "execution_count": 57,
     "metadata": {},
     "output_type": "execute_result"
    }
   ],
   "source": [
    "#write a python program to convert only ODD indexd characters to lower case\n",
    "b=input('ENTER : ')\n",
    "b1=''\n",
    "for i in range(len(b)):\n",
    "    if  i%2==0:\n",
    "        b1=b1+b[i].upper()\n",
    "    else:\n",
    "        b1=b1+b[i].lower()\n",
    "b1\n",
    "        "
   ]
  },
  {
   "cell_type": "code",
   "execution_count": 59,
   "id": "5131c479",
   "metadata": {},
   "outputs": [
    {
     "name": "stdout",
     "output_type": "stream",
     "text": [
      "ENTER : padmarevanth\n"
     ]
    },
    {
     "data": {
      "text/plain": [
       "'pAdMaReVaNtH'"
      ]
     },
     "execution_count": 59,
     "metadata": {},
     "output_type": "execute_result"
    }
   ],
   "source": [
    "#write a python program to convert only EVEN indexed characters to lower case\n",
    "c=input('ENTER : ')\n",
    "c1=''\n",
    "for i in range(len(c)):\n",
    "    if  i%2:\n",
    "        c1=c1+c[i].upper()\n",
    "    else:\n",
    "        c1=c1+c[i].lower()\n",
    "c1"
   ]
  },
  {
   "cell_type": "code",
   "execution_count": 60,
   "id": "244ff6d7",
   "metadata": {},
   "outputs": [
    {
     "name": "stdout",
     "output_type": "stream",
     "text": [
      "ENTER : padmarevanth\n"
     ]
    },
    {
     "data": {
      "text/plain": [
       "'pAdMaReVaNtH'"
      ]
     },
     "execution_count": 60,
     "metadata": {},
     "output_type": "execute_result"
    }
   ],
   "source": [
    "#write a python program t0 convert only odd indexed characters to upper case\n",
    "d=input('ENTER : ')\n",
    "d1=''\n",
    "for i in range(len(d)):\n",
    "    if i%2:\n",
    "        d1=d1+d[i].upper()\n",
    "    else:\n",
    "        d1=d1+d[i].lower()\n",
    "d1        \n",
    "        "
   ]
  },
  {
   "cell_type": "code",
   "execution_count": 61,
   "id": "0156bc45",
   "metadata": {},
   "outputs": [
    {
     "name": "stdout",
     "output_type": "stream",
     "text": [
      "ENTER : padmarevanth\n"
     ]
    },
    {
     "data": {
      "text/plain": [
       "'PaDmArEvAnTh'"
      ]
     },
     "execution_count": 61,
     "metadata": {},
     "output_type": "execute_result"
    }
   ],
   "source": [
    "#write a python program t0 convert only even indexed characters to upper case\n",
    "d=input('ENTER : ')\n",
    "d1=''\n",
    "for i in range(len(d)):\n",
    "    if i%2:\n",
    "        d1=d1+d[i].lower()\n",
    "    else:\n",
    "        d1=d1+d[i].upper()\n",
    "d1        \n",
    "        "
   ]
  },
  {
   "cell_type": "code",
   "execution_count": 67,
   "id": "e1930ae3",
   "metadata": {},
   "outputs": [
    {
     "name": "stdout",
     "output_type": "stream",
     "text": [
      "MY NAME IS PADMA REVANTH\n",
      "MY AGE IS 22\n",
      "MY PHONE NUMBER 1020304050\n",
      "MY FATHER'S NAME IS GANGARAM\n",
      "MY MOTHER'S NAME IS SIRI\n"
     ]
    }
   ],
   "source": [
    "#write a python program where you have different variable which contains you name,gender,age,etc\n",
    "a=input('MY NAME IS ')\n",
    "b=int(input('MY AGE IS '))\n",
    "C=int(input('MY PHONE NUMBER '))\n",
    "d=input(\"MY FATHER'S NAME IS \" )\n",
    "e=input(\"MY MOTHER'S NAME IS \")\n"
   ]
  },
  {
   "cell_type": "code",
   "execution_count": 73,
   "id": "63ae57e2",
   "metadata": {},
   "outputs": [
    {
     "data": {
      "text/plain": [
       "3"
      ]
     },
     "execution_count": 73,
     "metadata": {},
     "output_type": "execute_result"
    }
   ],
   "source": [
    "#write a python program to count how many times'@' occured\n",
    "e1='PADMAREVANTH'\n",
    "e1.count('A')\n"
   ]
  },
  {
   "cell_type": "code",
   "execution_count": 77,
   "id": "9928e609",
   "metadata": {},
   "outputs": [
    {
     "data": {
      "text/plain": [
       "['ram', ',sita', ',laxman', ',hanuman', '']"
      ]
     },
     "execution_count": 77,
     "metadata": {},
     "output_type": "execute_result"
    }
   ],
   "source": [
    "#write a python program to get only names from the strings \n",
    "f='ram@gmail.com,sita@gmail.com,laxman@gmail.com,hanuman@gmail.com'\n",
    "f.split('@gmail.com')"
   ]
  },
  {
   "cell_type": "code",
   "execution_count": 85,
   "id": "53167cc5",
   "metadata": {},
   "outputs": [
    {
     "name": "stdout",
     "output_type": "stream",
     "text": [
      "ENTER padma revanth\n",
      "after removing vowels : pdm rvnth\n"
     ]
    }
   ],
   "source": [
    "#write a python program to remove vowels from the entire alphabets\n",
    "\n",
    "g=input('ENTER ')\n",
    "vowels=['a','e','i','o','u']\n",
    "g1=''\n",
    "for i in g:\n",
    "    if i not in vowels:\n",
    "        g1=g1.replace(i,'')\n",
    "        g1=g1+i\n",
    "    \n",
    "print('after removing vowels :',g1)\n",
    "\n",
    "    \n",
    "    \n"
   ]
  },
  {
   "cell_type": "code",
   "execution_count": 93,
   "id": "5ae61d94",
   "metadata": {},
   "outputs": [
    {
     "name": "stdout",
     "output_type": "stream",
     "text": [
      "the innomatics count is : 2\n"
     ]
    }
   ],
   "source": [
    "#find all occurrences of a substring in a given string by ignoring the case\n",
    "h=\"welcome to Innomatics.innomatics awesome,isn't it?\" \n",
    "h1=h.lower()\n",
    "sub_string=\"innomatics\"\n",
    "count=h1.count(sub_string)\n",
    "print('the innomatics count is :',count)\n"
   ]
  },
  {
   "cell_type": "code",
   "execution_count": null,
   "id": "50eca75b",
   "metadata": {},
   "outputs": [],
   "source": []
  },
  {
   "cell_type": "code",
   "execution_count": null,
   "id": "c1e64b61",
   "metadata": {},
   "outputs": [],
   "source": []
  },
  {
   "cell_type": "code",
   "execution_count": null,
   "id": "843c7c08",
   "metadata": {},
   "outputs": [],
   "source": []
  }
 ],
 "metadata": {
  "kernelspec": {
   "display_name": "Python 3",
   "language": "python",
   "name": "python3"
  },
  "language_info": {
   "codemirror_mode": {
    "name": "ipython",
    "version": 3
   },
   "file_extension": ".py",
   "mimetype": "text/x-python",
   "name": "python",
   "nbconvert_exporter": "python",
   "pygments_lexer": "ipython3",
   "version": "3.8.8"
  }
 },
 "nbformat": 4,
 "nbformat_minor": 5
}
